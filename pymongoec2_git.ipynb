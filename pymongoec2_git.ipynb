{
 "cells": [
  {
   "cell_type": "code",
   "execution_count": 1,
   "metadata": {},
   "outputs": [],
   "source": [
    "from flask import *\n",
    "import pymongo\n",
    "from pymongo import MongoClient"
   ]
  },
  {
   "cell_type": "code",
   "execution_count": 2,
   "metadata": {},
   "outputs": [],
   "source": [
    "Client=MongoClient(\"localhost\",27017)"
   ]
  },
  {
   "cell_type": "code",
   "execution_count": 3,
   "metadata": {},
   "outputs": [
    {
     "data": {
      "text/plain": [
       "['Jobs',\n",
       " 'admin',\n",
       " 'bookdb',\n",
       " 'config',\n",
       " 'database2',\n",
       " 'local',\n",
       " 'myPYdb',\n",
       " 'students']"
      ]
     },
     "execution_count": 3,
     "metadata": {},
     "output_type": "execute_result"
    }
   ],
   "source": [
    "Client.list_database_names()     "
   ]
  },
  {
   "cell_type": "code",
   "execution_count": 4,
   "metadata": {},
   "outputs": [],
   "source": [
    "db=Client.bookdb"
   ]
  },
  {
   "cell_type": "code",
   "execution_count": 5,
   "metadata": {},
   "outputs": [
    {
     "data": {
      "text/plain": [
       "['books', 'products']"
      ]
     },
     "execution_count": 5,
     "metadata": {},
     "output_type": "execute_result"
    }
   ],
   "source": [
    "db.list_collection_names()   "
   ]
  },
  {
   "cell_type": "code",
   "execution_count": 6,
   "metadata": {},
   "outputs": [
    {
     "data": {
      "text/plain": [
       "<pymongo.cursor.Cursor at 0x1e98426fbe0>"
      ]
     },
     "execution_count": 6,
     "metadata": {},
     "output_type": "execute_result"
    }
   ],
   "source": [
    "db.products.find() "
   ]
  },
  {
   "cell_type": "code",
   "execution_count": 7,
   "metadata": {},
   "outputs": [],
   "source": [
    "from pprint import pprint"
   ]
  },
  {
   "cell_type": "code",
   "execution_count": 9,
   "metadata": {},
   "outputs": [
    {
     "name": "stdout",
     "output_type": "stream",
     "text": [
      "   _id         name  price releaseDate  \\\n",
      "0  1.0       xPhone  799.0  2011-05-14   \n",
      "1  2.0      xTablet  899.0  2011-09-01   \n",
      "2  3.0  SmartTablet  899.0  2015-01-14   \n",
      "3  4.0     SmartPad  699.0  2020-05-14   \n",
      "4  5.0   SmartPhone  599.0  2022-09-14   \n",
      "\n",
      "                                        spec                        color  \\\n",
      "0   {'ram': 4.0, 'screen': 6.5, 'cpu': 2.66}               [white, black]   \n",
      "1  {'ram': 16.0, 'screen': 9.5, 'cpu': 3.66}       [white, black, purple]   \n",
      "2  {'ram': 12.0, 'screen': 9.7, 'cpu': 3.66}                       [blue]   \n",
      "3   {'ram': 8.0, 'screen': 9.7, 'cpu': 1.66}  [white, orange, gold, gray]   \n",
      "4   {'ram': 4.0, 'screen': 5.7, 'cpu': 1.66}  [white, orange, gold, gray]   \n",
      "\n",
      "                  storage  \n",
      "0    [64.0, 128.0, 256.0]  \n",
      "1   [128.0, 256.0, 512.0]  \n",
      "2     [16.0, 64.0, 128.0]  \n",
      "3  [128.0, 256.0, 1024.0]  \n",
      "4          [128.0, 256.0]  \n"
     ]
    }
   ],
   "source": [
    "import pandas as pd \n",
    "CM = [data for data in db.products.find()]\n",
    "df_CM = pd.DataFrame(CM)\n",
    "pprint(df_CM)"
   ]
  },
  {
   "cell_type": "code",
   "execution_count": null,
   "metadata": {},
   "outputs": [],
   "source": []
  }
 ],
 "metadata": {
  "kernelspec": {
   "display_name": "Python 3",
   "language": "python",
   "name": "python3"
  },
  "language_info": {
   "codemirror_mode": {
    "name": "ipython",
    "version": 3
   },
   "file_extension": ".py",
   "mimetype": "text/x-python",
   "name": "python",
   "nbconvert_exporter": "python",
   "pygments_lexer": "ipython3",
   "version": "3.8.5"
  }
 },
 "nbformat": 4,
 "nbformat_minor": 4
}
